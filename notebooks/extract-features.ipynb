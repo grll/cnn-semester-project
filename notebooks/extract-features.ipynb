{
 "cells": [
  {
   "cell_type": "code",
   "execution_count": 1,
   "metadata": {
    "collapsed": true
   },
   "outputs": [],
   "source": [
    "# import dependency\n",
    "import torch\n",
    "import numpy as np\n",
    "from torch.autograd import Variable as V\n",
    "import torchvision\n",
    "import torchvision.models as models\n",
    "import torchvision.datasets as dset\n",
    "import torchvision.transforms as transforms\n",
    "from torch.nn import functional as F\n",
    "import os\n",
    "from PIL import Image\n",
    "import matplotlib.pyplot as plt\n",
    "\n",
    "from functools import partial\n",
    "import pickle\n",
    "\n",
    "plt.ion()   # interactive mode\n",
    "%matplotlib inline"
   ]
  },
  {
   "cell_type": "code",
   "execution_count": 2,
   "metadata": {
    "collapsed": true
   },
   "outputs": [],
   "source": [
    "# set up pickle to support encoding of the trained 2.7 weight\n",
    "pickle.load = partial(pickle.load, encoding=\"latin1\")\n",
    "pickle.Unpickler = partial(pickle.Unpickler, encoding=\"latin1\")"
   ]
  },
  {
   "cell_type": "code",
   "execution_count": 3,
   "metadata": {
    "collapsed": true
   },
   "outputs": [],
   "source": [
    "# define our transformation function\n",
    "centre_crop = transforms.Compose([\n",
    "        transforms.Scale(256),\n",
    "        transforms.CenterCrop(224),\n",
    "        transforms.ToTensor(),\n",
    "        transforms.Normalize([0.485, 0.456, 0.406], [0.229, 0.224, 0.225])\n",
    "])"
   ]
  },
  {
   "cell_type": "code",
   "execution_count": 4,
   "metadata": {},
   "outputs": [
    {
     "name": "stdout",
     "output_type": "stream",
     "text": [
      "loading annotations into memory...\n",
      "Done (t=0.14s)\n",
      "creating index...\n",
      "index created!\n"
     ]
    }
   ],
   "source": [
    "# load the data with cocoAPI\n",
    "cap = dset.CocoCaptions(root = '/home/raille/coco-features/coco-dataset/val2017',\n",
    "                        annFile = '/home/raille/coco-features/coco-dataset/annotations/captions_val2017.json',\n",
    "                        transform=centre_crop)"
   ]
  },
  {
   "cell_type": "code",
   "execution_count": 5,
   "metadata": {
    "scrolled": true
   },
   "outputs": [
    {
     "name": "stdout",
     "output_type": "stream",
     "text": [
      "Number of samples:  5000\n",
      "Image Size:  torch.Size([3, 224, 224])\n",
      "['A person on a skateboard and bike at a skate park.', 'A man on a skateboard performs a trick at the skate park', 'A skateboarder jumps into the air as he performs a skateboard trick.', 'Athletes performing tricks on a BMX bicycle and a skateboard.', 'a man falls off his skateboard in a skate park.']\n"
     ]
    }
   ],
   "source": [
    "# print out one example of data\n",
    "print('Number of samples: ', len(cap))\n",
    "img, target = cap[3] # load 4th sample\n",
    "\n",
    "print(\"Image Size: \", img.size())\n",
    "print(target)"
   ]
  },
  {
   "cell_type": "code",
   "execution_count": 6,
   "metadata": {
    "collapsed": true
   },
   "outputs": [],
   "source": [
    "# create dataloader to iterate over the dataset in batch of images\n",
    "batch_size = 4\n",
    "dataloders = torch.utils.data.DataLoader(cap, batch_size=batch_size, shuffle=True, num_workers=4)"
   ]
  },
  {
   "cell_type": "code",
   "execution_count": 7,
   "metadata": {},
   "outputs": [
    {
     "data": {
      "text/plain": [
       "1250"
      ]
     },
     "execution_count": 7,
     "metadata": {},
     "output_type": "execute_result"
    }
   ],
   "source": [
    "len(dataloders)"
   ]
  },
  {
   "cell_type": "code",
   "execution_count": 8,
   "metadata": {
    "collapsed": true
   },
   "outputs": [],
   "source": [
    "def imshow(inp, title=None):\n",
    "    \"\"\"Imshow for Tensor.\"\"\"\n",
    "    # .numpy() Returns this tensor as a NumPy ndarray. \n",
    "    # This tensor and the returned ndarray share the same underlying storage. \n",
    "    # Changes to this tensor will be reflected in the ndarray and vice versa.\n",
    "    # .tranpose change the ndarray from 3x228x906 to 228x906x3 -> used probably by imshow)\n",
    "    inp = inp.numpy().transpose((1, 2, 0))\n",
    "    mean = np.array([0.485, 0.456, 0.406])\n",
    "    std = np.array([0.229, 0.224, 0.225])\n",
    "    # reverse the normalization applied\n",
    "    inp = std * inp + mean\n",
    "    plt.imshow(inp)\n",
    "    if title is not None:\n",
    "        plt.title(title)\n",
    "    plt.pause(0.001)  # pause a bit so that plots are updated"
   ]
  },
  {
   "cell_type": "code",
   "execution_count": 9,
   "metadata": {
    "scrolled": false
   },
   "outputs": [
    {
     "name": "stdout",
     "output_type": "stream",
     "text": [
      "torch.Size([4, 3, 224, 224])\n"
     ]
    },
    {
     "data": {
      "text/plain": [
       "[('A dog in a small bathroom with an orange shower curtain.',\n",
       "  'A large white sheep next to a small black one',\n",
       "  'Three laptop computers and a desktop computer sit next to each other.',\n",
       "  'A small kitten standing in a  blue hat on top of a table.'),\n",
       " ('A dog that is standing on a rug in a bathroom.',\n",
       "  'A lamb and a sheep are out in the field together. ',\n",
       "  'Four computers are turned on on a desk.',\n",
       "  'a cat sitting inside of a plastic bucket'),\n",
       " ('A small dug stands on a white rug in the bathroom.',\n",
       "  'The two sheep are standing next to each other in the field. ',\n",
       "  'a office with three computers spread out everywhere',\n",
       "  \"A cat's image is blurred as he tumbles in a bowl near a food scale and pen and paper on a table.\"),\n",
       " ('The dog was standing in the bathroom near the sink and toilet.',\n",
       "  'Pair of sheep standing on open grassy field on clear day.',\n",
       "  'Four computers and keyboards arranged on a desk.',\n",
       "  'A kitty cat jumping out of a blue bowl '),\n",
       " ('A puppy sitting on the ground in a bathroom',\n",
       "  'A ewe and her kid in a field.',\n",
       "  'A lot of computers that are on a computer desk.',\n",
       "  'A kitten climbing out of a blue bowl.')]"
      ]
     },
     "execution_count": 9,
     "metadata": {},
     "output_type": "execute_result"
    },
    {
     "data": {
      "image/png": "[encoded data removed]",
      "text/plain": [
       "<matplotlib.figure.Figure at 0x7f675e56de10>"
      ]
     },
     "metadata": {},
     "output_type": "display_data"
    }
   ],
   "source": [
    "# try out the dataloader\n",
    "inputs, captions = next(iter(dataloders))\n",
    "print(inputs.size())\n",
    "\n",
    "out = torchvision.utils.make_grid(inputs, nrow=4)\n",
    "imshow(out)\n",
    "captions"
   ]
  },
  {
   "cell_type": "code",
   "execution_count": 10,
   "metadata": {},
   "outputs": [
    {
     "data": {
      "text/plain": [
       "[['A dog in a small bathroom with an orange shower curtain.',\n",
       "  'A dog that is standing on a rug in a bathroom.',\n",
       "  'A small dug stands on a white rug in the bathroom.',\n",
       "  'The dog was standing in the bathroom near the sink and toilet.',\n",
       "  'A puppy sitting on the ground in a bathroom'],\n",
       " ['A large white sheep next to a small black one',\n",
       "  'A lamb and a sheep are out in the field together. ',\n",
       "  'The two sheep are standing next to each other in the field. ',\n",
       "  'Pair of sheep standing on open grassy field on clear day.',\n",
       "  'A ewe and her kid in a field.'],\n",
       " ['Three laptop computers and a desktop computer sit next to each other.',\n",
       "  'Four computers are turned on on a desk.',\n",
       "  'a office with three computers spread out everywhere',\n",
       "  'Four computers and keyboards arranged on a desk.',\n",
       "  'A lot of computers that are on a computer desk.'],\n",
       " ['A small kitten standing in a  blue hat on top of a table.',\n",
       "  'a cat sitting inside of a plastic bucket',\n",
       "  \"A cat's image is blurred as he tumbles in a bowl near a food scale and pen and paper on a table.\",\n",
       "  'A kitty cat jumping out of a blue bowl ',\n",
       "  'A kitten climbing out of a blue bowl.']]"
      ]
     },
     "execution_count": 10,
     "metadata": {},
     "output_type": "execute_result"
    }
   ],
   "source": [
    "captions_list = []\n",
    "for i in range(batch_size):\n",
    "    captions_list.append([caption[i] for caption in captions])\n",
    "captions_list"
   ]
  },
  {
   "cell_type": "code",
   "execution_count": 11,
   "metadata": {
    "scrolled": true
   },
   "outputs": [
    {
     "name": "stderr",
     "output_type": "stream",
     "text": [
      "/home/raille/anaconda3/lib/python3.6/site-packages/torch/serialization.py:286: SourceChangeWarning: source code of class 'torch.nn.modules.conv.Conv2d' has changed. you can retrieve the original source code by accessing the object's source attribute or set `torch.nn.Module.dump_patches = True` and use the patch tool to revert the changes.\n",
      "  warnings.warn(msg, SourceChangeWarning)\n"
     ]
    },
    {
     "data": {
      "text/plain": [
       "ResNet (\n",
       "  (conv1): Conv2d(3, 64, kernel_size=(7, 7), stride=(2, 2), padding=(3, 3), bias=False)\n",
       "  (bn1): BatchNorm2d(64, eps=1e-05, momentum=0.1, affine=True)\n",
       "  (relu): ReLU (inplace)\n",
       "  (maxpool): MaxPool2d (size=(3, 3), stride=(2, 2), padding=(1, 1), dilation=(1, 1))\n",
       "  (layer1): Sequential (\n",
       "    (0): BasicBlock (\n",
       "      (conv1): Conv2d(64, 64, kernel_size=(3, 3), stride=(1, 1), padding=(1, 1), bias=False)\n",
       "      (bn1): BatchNorm2d(64, eps=1e-05, momentum=0.1, affine=True)\n",
       "      (relu): ReLU (inplace)\n",
       "      (conv2): Conv2d(64, 64, kernel_size=(3, 3), stride=(1, 1), padding=(1, 1), bias=False)\n",
       "      (bn2): BatchNorm2d(64, eps=1e-05, momentum=0.1, affine=True)\n",
       "    )\n",
       "    (1): BasicBlock (\n",
       "      (conv1): Conv2d(64, 64, kernel_size=(3, 3), stride=(1, 1), padding=(1, 1), bias=False)\n",
       "      (bn1): BatchNorm2d(64, eps=1e-05, momentum=0.1, affine=True)\n",
       "      (relu): ReLU (inplace)\n",
       "      (conv2): Conv2d(64, 64, kernel_size=(3, 3), stride=(1, 1), padding=(1, 1), bias=False)\n",
       "      (bn2): BatchNorm2d(64, eps=1e-05, momentum=0.1, affine=True)\n",
       "    )\n",
       "  )\n",
       "  (layer2): Sequential (\n",
       "    (0): BasicBlock (\n",
       "      (conv1): Conv2d(64, 128, kernel_size=(3, 3), stride=(2, 2), padding=(1, 1), bias=False)\n",
       "      (bn1): BatchNorm2d(128, eps=1e-05, momentum=0.1, affine=True)\n",
       "      (relu): ReLU (inplace)\n",
       "      (conv2): Conv2d(128, 128, kernel_size=(3, 3), stride=(1, 1), padding=(1, 1), bias=False)\n",
       "      (bn2): BatchNorm2d(128, eps=1e-05, momentum=0.1, affine=True)\n",
       "      (downsample): Sequential (\n",
       "        (0): Conv2d(64, 128, kernel_size=(1, 1), stride=(2, 2), bias=False)\n",
       "        (1): BatchNorm2d(128, eps=1e-05, momentum=0.1, affine=True)\n",
       "      )\n",
       "    )\n",
       "    (1): BasicBlock (\n",
       "      (conv1): Conv2d(128, 128, kernel_size=(3, 3), stride=(1, 1), padding=(1, 1), bias=False)\n",
       "      (bn1): BatchNorm2d(128, eps=1e-05, momentum=0.1, affine=True)\n",
       "      (relu): ReLU (inplace)\n",
       "      (conv2): Conv2d(128, 128, kernel_size=(3, 3), stride=(1, 1), padding=(1, 1), bias=False)\n",
       "      (bn2): BatchNorm2d(128, eps=1e-05, momentum=0.1, affine=True)\n",
       "    )\n",
       "  )\n",
       "  (layer3): Sequential (\n",
       "    (0): BasicBlock (\n",
       "      (conv1): Conv2d(128, 256, kernel_size=(3, 3), stride=(2, 2), padding=(1, 1), bias=False)\n",
       "      (bn1): BatchNorm2d(256, eps=1e-05, momentum=0.1, affine=True)\n",
       "      (relu): ReLU (inplace)\n",
       "      (conv2): Conv2d(256, 256, kernel_size=(3, 3), stride=(1, 1), padding=(1, 1), bias=False)\n",
       "      (bn2): BatchNorm2d(256, eps=1e-05, momentum=0.1, affine=True)\n",
       "      (downsample): Sequential (\n",
       "        (0): Conv2d(128, 256, kernel_size=(1, 1), stride=(2, 2), bias=False)\n",
       "        (1): BatchNorm2d(256, eps=1e-05, momentum=0.1, affine=True)\n",
       "      )\n",
       "    )\n",
       "    (1): BasicBlock (\n",
       "      (conv1): Conv2d(256, 256, kernel_size=(3, 3), stride=(1, 1), padding=(1, 1), bias=False)\n",
       "      (bn1): BatchNorm2d(256, eps=1e-05, momentum=0.1, affine=True)\n",
       "      (relu): ReLU (inplace)\n",
       "      (conv2): Conv2d(256, 256, kernel_size=(3, 3), stride=(1, 1), padding=(1, 1), bias=False)\n",
       "      (bn2): BatchNorm2d(256, eps=1e-05, momentum=0.1, affine=True)\n",
       "    )\n",
       "  )\n",
       "  (layer4): Sequential (\n",
       "    (0): BasicBlock (\n",
       "      (conv1): Conv2d(256, 512, kernel_size=(3, 3), stride=(2, 2), padding=(1, 1), bias=False)\n",
       "      (bn1): BatchNorm2d(512, eps=1e-05, momentum=0.1, affine=True)\n",
       "      (relu): ReLU (inplace)\n",
       "      (conv2): Conv2d(512, 512, kernel_size=(3, 3), stride=(1, 1), padding=(1, 1), bias=False)\n",
       "      (bn2): BatchNorm2d(512, eps=1e-05, momentum=0.1, affine=True)\n",
       "      (downsample): Sequential (\n",
       "        (0): Conv2d(256, 512, kernel_size=(1, 1), stride=(2, 2), bias=False)\n",
       "        (1): BatchNorm2d(512, eps=1e-05, momentum=0.1, affine=True)\n",
       "      )\n",
       "    )\n",
       "    (1): BasicBlock (\n",
       "      (conv1): Conv2d(512, 512, kernel_size=(3, 3), stride=(1, 1), padding=(1, 1), bias=False)\n",
       "      (bn1): BatchNorm2d(512, eps=1e-05, momentum=0.1, affine=True)\n",
       "      (relu): ReLU (inplace)\n",
       "      (conv2): Conv2d(512, 512, kernel_size=(3, 3), stride=(1, 1), padding=(1, 1), bias=False)\n",
       "      (bn2): BatchNorm2d(512, eps=1e-05, momentum=0.1, affine=True)\n",
       "    )\n",
       "  )\n",
       "  (avgpool): AvgPool2d (size=7, stride=7, padding=0, ceil_mode=False, count_include_pad=True)\n",
       "  (fc): Linear (512 -> 365)\n",
       ")"
      ]
     },
     "execution_count": 11,
     "metadata": {},
     "output_type": "execute_result"
    }
   ],
   "source": [
    "# now load the model\n",
    "arch = 'resnet18'\n",
    "\n",
    "model_file = 'whole_%s_places365.pth.tar' % arch\n",
    "if not os.access(model_file, os.W_OK):\n",
    "    weight_url = 'http://places2.csail.mit.edu/models_places365/whole_%s_places365.pth.tar' % arch\n",
    "    os.system('wget ' + weight_url)\n",
    "\n",
    "useGPU = torch.cuda.is_available()\n",
    "if useGPU == 1:\n",
    "    model = torch.load(model_file)\n",
    "    model = model.cuda()\n",
    "else:\n",
    "    model = torch.load(model_file, map_location=lambda storage, loc: storage, pickle_module=pickle) # model trained in GPU could be deployed in CPU machine like this!\n",
    "\n",
    "# put the model in eval mode (no dropout / batchnorm...)\n",
    "model.eval()"
   ]
  },
  {
   "cell_type": "code",
   "execution_count": 12,
   "metadata": {
    "collapsed": true
   },
   "outputs": [],
   "source": [
    "# create a custom forward function to get only the final features just before the fc\n",
    "def my_forward(x):\n",
    "    x = model.conv1(x)\n",
    "    x = model.bn1(x)\n",
    "    x = model.relu(x)\n",
    "    x = model.maxpool(x)\n",
    "\n",
    "    x = model.layer1(x)\n",
    "    x = model.layer2(x)\n",
    "    x = model.layer3(x)\n",
    "    x = model.layer4(x)\n",
    "\n",
    "    x = model.avgpool(x)\n",
    "    # reshape the tensor into a #images * n vector\n",
    "    x = x.view(x.size(0), -1)\n",
    "    \n",
    "    return x"
   ]
  },
  {
   "cell_type": "code",
   "execution_count": 13,
   "metadata": {
    "collapsed": true
   },
   "outputs": [],
   "source": [
    "# create a FloatTensor to gather all the features\n",
    "if useGPU:\n",
    "    features = torch.cuda.FloatTensor(len(cap), 512)\n",
    "else:\n",
    "    features = torch.FloatTensor(len(cap), 512)\n",
    "    \n",
    "# and a corresponding caption list\n",
    "captions_list = []\n",
    "\n",
    "# and a tensor to store the images to be able to compare the order\n",
    "if useGPU:\n",
    "    images = torch.cuda.FloatTensor(len(cap), 3, 224, 224)\n",
    "else:\n",
    "    images = torch.FloatTensor(len(cap), 3, 224, 224)"
   ]
  },
  {
   "cell_type": "code",
   "execution_count": 15,
   "metadata": {
    "scrolled": false
   },
   "outputs": [],
   "source": [
    "# run the pretrained model on the data and put the collected feature in the features tensor\n",
    "for i, data in enumerate(dataloders):\n",
    "    inputs, captions = data\n",
    "\n",
    "    if useGPU:\n",
    "        inputs = V(inputs.cuda())\n",
    "    else:\n",
    "        inputs = V(inputs)\n",
    "        \n",
    "    images[i*batch_size:(i+1)*batch_size] = inputs.data\n",
    "    features[i*batch_size:(i+1)*batch_size] = my_forward(inputs).data\n",
    "    \n",
    "    for i in range(batch_size):\n",
    "        captions_list.append([caption[i] for caption in captions])\n",
    "        captions_list"
   ]
  },
  {
   "cell_type": "code",
   "execution_count": 19,
   "metadata": {},
   "outputs": [
    {
     "data": {
      "text/plain": [
       "5000"
      ]
     },
     "execution_count": 19,
     "metadata": {},
     "output_type": "execute_result"
    }
   ],
   "source": [
    "len(images)"
   ]
  },
  {
   "cell_type": "code",
   "execution_count": 20,
   "metadata": {},
   "outputs": [
    {
     "data": {
      "text/plain": [
       "\n",
       "( 0 ,.,.) = \n",
       "  1.5810  1.5810  1.5810  ...   1.6495  1.6495  1.6495\n",
       "  1.5810  1.5810  1.5810  ...   1.6495  1.6667  1.6495\n",
       "  1.5810  1.5810  1.5810  ...   1.6495  1.6667  1.6495\n",
       "           ...             ⋱             ...          \n",
       " -0.8335 -0.7993 -0.7822  ...  -0.3541 -0.3027 -0.3198\n",
       " -0.8335 -0.8678 -0.8335  ...  -0.2856 -0.3198 -0.2856\n",
       " -0.5596 -0.5596 -0.5082  ...  -0.3369 -0.3541 -0.3198\n",
       "\n",
       "( 1 ,.,.) = \n",
       "  1.7633  1.7633  1.7633  ...   1.7983  1.7983  1.7983\n",
       "  1.7633  1.7633  1.7633  ...   1.7983  1.8158  1.7983\n",
       "  1.7633  1.7633  1.7633  ...   1.7983  1.8158  1.7983\n",
       "           ...             ⋱             ...          \n",
       " -0.6877 -0.6702 -0.6527  ...  -0.2325 -0.1800 -0.1975\n",
       " -0.6877 -0.7052 -0.6702  ...  -0.1625 -0.1975 -0.1625\n",
       " -0.4601 -0.4426 -0.3901  ...  -0.2150 -0.2325 -0.1800\n",
       "\n",
       "( 2 ,.,.) = \n",
       "  1.8731  1.8731  1.8731  ...   1.9254  1.9254  1.9254\n",
       "  1.8731  1.8731  1.8731  ...   1.9254  1.9428  1.9254\n",
       "  1.8731  1.8731  1.8731  ...   1.9254  1.9428  1.9254\n",
       "           ...             ⋱             ...          \n",
       " -0.3927 -0.3578 -0.3404  ...  -0.0092  0.0431  0.0256\n",
       " -0.4101 -0.4275 -0.3753  ...   0.0605  0.0082  0.0605\n",
       " -0.3055 -0.2881 -0.2358  ...   0.0082 -0.0267  0.0431\n",
       "[torch.cuda.FloatTensor of size 3x224x224 (GPU 0)]"
      ]
     },
     "execution_count": 20,
     "metadata": {},
     "output_type": "execute_result"
    }
   ],
   "source": [
    "images[1]"
   ]
  },
  {
   "cell_type": "code",
   "execution_count": 21,
   "metadata": {
    "collapsed": true
   },
   "outputs": [],
   "source": [
    "# save images on a pickle to be able to load it later\n",
    "torch.save(images, 'images.pt')"
   ]
  },
  {
   "cell_type": "code",
   "execution_count": 22,
   "metadata": {},
   "outputs": [
    {
     "data": {
      "text/plain": [
       "5000"
      ]
     },
     "execution_count": 22,
     "metadata": {},
     "output_type": "execute_result"
    }
   ],
   "source": [
    "len(captions_list)"
   ]
  },
  {
   "cell_type": "code",
   "execution_count": 23,
   "metadata": {},
   "outputs": [
    {
     "data": {
      "text/plain": [
       "5000"
      ]
     },
     "execution_count": 23,
     "metadata": {},
     "output_type": "execute_result"
    }
   ],
   "source": [
    "len(features)"
   ]
  },
  {
   "cell_type": "code",
   "execution_count": 24,
   "metadata": {},
   "outputs": [
    {
     "data": {
      "text/plain": [
       "\n",
       " 0.1733  0.0451  0.0190  ...   0.1608  1.8456  0.0000\n",
       " 0.0671  0.0989  0.0113  ...   0.2617  0.7807  0.6469\n",
       " 0.2934  0.1945  0.9250  ...   0.1170  0.4070  0.1099\n",
       " 0.0439  0.1702  0.4204  ...   1.7394  0.2452  0.1753\n",
       "[torch.cuda.FloatTensor of size 4x512 (GPU 0)]"
      ]
     },
     "execution_count": 24,
     "metadata": {},
     "output_type": "execute_result"
    }
   ],
   "source": [
    "# we now have a feature matrix of size n * number of features\n",
    "features[-4:]"
   ]
  },
  {
   "cell_type": "code",
   "execution_count": 25,
   "metadata": {
    "collapsed": true
   },
   "outputs": [],
   "source": [
    "# save the list of catpions\n",
    "with open('captions.pkl', 'wb') as f:\n",
    "    pickle.dump(captions_list, f)"
   ]
  },
  {
   "cell_type": "code",
   "execution_count": 26,
   "metadata": {
    "collapsed": true
   },
   "outputs": [],
   "source": [
    "# save the raw features extracted\n",
    "torch.save(features, 'raw-features.pt')"
   ]
  },
  {
   "cell_type": "code",
   "execution_count": 27,
   "metadata": {
    "collapsed": true
   },
   "outputs": [],
   "source": [
    "# Perform the standardization of the data\n",
    "for i in range(features.shape[1]):\n",
    "    features[:, i].add_(-torch.mean(features[:, i]))\n",
    "    features[:, i].div_(torch.std(features[:, i]))"
   ]
  },
  {
   "cell_type": "code",
   "execution_count": 28,
   "metadata": {
    "collapsed": true
   },
   "outputs": [],
   "source": [
    "# Perform the PCA through SVD\n",
    "U, S, V = torch.svd(features)"
   ]
  },
  {
   "cell_type": "code",
   "execution_count": 29,
   "metadata": {
    "collapsed": true
   },
   "outputs": [],
   "source": [
    "# Keep only the principal component\n",
    "k = 128\n",
    "PC_k = torch.mm(U[:, 0:k], torch.diag(S)[0:k,0:k])"
   ]
  },
  {
   "cell_type": "code",
   "execution_count": 30,
   "metadata": {},
   "outputs": [
    {
     "data": {
      "text/plain": [
       "\n",
       "-8.4063e+00 -7.1521e+00 -7.8016e-01  ...  -8.8180e-01 -5.0255e-01 -7.2228e-01\n",
       "-6.5140e+00  4.4774e+00  4.4884e+00  ...  -9.5864e-01 -1.0499e-01  7.2858e-01\n",
       "-3.1564e+00  5.3898e+00  3.1564e+00  ...   6.6038e-01 -1.3145e+00 -4.5129e-01\n",
       "                ...                   ⋱                   ...                \n",
       "-7.3145e+00 -4.8327e+00 -2.5488e+00  ...   9.1882e-01 -6.7384e-01 -9.3270e-02\n",
       " 4.9693e+00 -4.6637e-01  9.9329e+00  ...  -2.1649e-01 -4.1381e-01 -1.1081e+00\n",
       "-2.6722e+00 -1.2596e+00  4.2186e+00  ...   8.1245e-01  1.0686e+00  3.6901e-01\n",
       "[torch.cuda.FloatTensor of size 5000x128 (GPU 0)]"
      ]
     },
     "execution_count": 30,
     "metadata": {},
     "output_type": "execute_result"
    }
   ],
   "source": [
    "PC_k"
   ]
  },
  {
   "cell_type": "code",
   "execution_count": 31,
   "metadata": {
    "collapsed": true
   },
   "outputs": [],
   "source": [
    "# save the reduced matrice\n",
    "torch.save(PC_k, 'PCA-features.pt')"
   ]
  }
 ],
 "metadata": {
  "kernelspec": {
   "display_name": "Python 3",
   "language": "python",
   "name": "python3"
  },
  "language_info": {
   "codemirror_mode": {
    "name": "ipython",
    "version": 3
   },
   "file_extension": ".py",
   "mimetype": "text/x-python",
   "name": "python",
   "nbconvert_exporter": "python",
   "pygments_lexer": "ipython3",
   "version": "3.6.2"
  }
 },
 "nbformat": 4,
 "nbformat_minor": 2
}
