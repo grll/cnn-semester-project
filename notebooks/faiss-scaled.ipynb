{
 "cells": [
  {
   "cell_type": "code",
   "execution_count": 50,
   "metadata": {
    "collapsed": true
   },
   "outputs": [],
   "source": [
    "# warning: faiss need python 2.7 to work properly\n",
    "# => special conda env for it to run.\n",
    "\n",
    "# import dependencies\n",
    "import torch\n",
    "import torchvision\n",
    "import torchvision.datasets as dset\n",
    "import torchvision.transforms as transforms\n",
    "\n",
    "# For ploting\n",
    "import numpy as np\n",
    "import matplotlib.pyplot as plt\n",
    "%matplotlib inline\n",
    "\n",
    "import sys\n",
    "import cPickle as pickle\n",
    "import time\n",
    "\n",
    "FAISS_PATH = \"../../faiss/\"\n",
    "COCOAPI_PATH = \"../cocoapi/PythonAPI\"\n",
    "sys.path.append(FAISS_PATH)\n",
    "sys.path.append(COCOAPI_PATH)\n",
    "\n",
    "import faiss\n",
    "\n",
    "useGPU = torch.cuda.is_available()"
   ]
  },
  {
   "cell_type": "code",
   "execution_count": 45,
   "metadata": {
    "collapsed": true
   },
   "outputs": [],
   "source": [
    "# define useful utility function\n",
    "def imshow(inp, title=None):\n",
    "    \"\"\"Imshow for Tensor.\"\"\"\n",
    "    inp = inp.numpy().transpose((1, 2, 0))\n",
    "    mean = np.array([0.485, 0.456, 0.406])\n",
    "    std = np.array([0.229, 0.224, 0.225])\n",
    "    inp = std * inp + mean\n",
    "    plt.figure()\n",
    "    plt.imshow(inp)\n",
    "    if title is not None:\n",
    "        plt.title(title)\n",
    "    plt.pause(0.001)  # pause a bit so that plots are updated\n",
    "    \n",
    "def progress(count, total, suffix=''):\n",
    "    \"\"\" Shows the progress of a given action \n",
    "    \n",
    "    @params:\n",
    "    - count : the current count of done operations\n",
    "    - total : the total number of operation to do\n",
    "    - suffix : a message printed after the progress bar\n",
    "    \"\"\"\n",
    "    \n",
    "    bar_len = 60\n",
    "    filled_len = int(round(bar_len * count / float(total)))\n",
    "\n",
    "    percents = round(100.0 * count / float(total), 1)\n",
    "    bar = '#' * filled_len + '-' * (bar_len - filled_len)\n",
    "\n",
    "    sys.stdout.write('[%s] %s%s ... %s\\r' % (bar, percents, '%', suffix))\n",
    "    sys.stdout.flush()\n",
    "    \n",
    "def compute_sim_percentage_arrays(array_1, array_2):\n",
    "    \"\"\"\n",
    "        Compute the percentage of similarity between 2 1D IntTensor of same lentgh\n",
    "    \"\"\"\n",
    "    return (array_1 == array_2).sum()/len(array_1)"
   ]
  },
  {
   "cell_type": "code",
   "execution_count": 2,
   "metadata": {},
   "outputs": [
    {
     "name": "stdout",
     "output_type": "stream",
     "text": [
      "loading annotations into memory...\n",
      "Done (t=3.73s)\n",
      "creating index...\n",
      "index created!\n"
     ]
    }
   ],
   "source": [
    "# define our transformation function\n",
    "centre_crop = transforms.Compose([\n",
    "        transforms.Resize(256),\n",
    "        transforms.CenterCrop(224),\n",
    "        transforms.ToTensor(),\n",
    "        transforms.Normalize([0.485, 0.456, 0.406], [0.229, 0.224, 0.225])\n",
    "])\n",
    "\n",
    "# load the data with cocoAPI this time we dont need transform\n",
    "cap = dset.CocoCaptions(root = '/home/raille/coco-features/coco-dataset/train2017',\n",
    "                        annFile = '/home/raille/coco-features/coco-dataset/annotations/captions_train2017.json',\n",
    "                        transform=centre_crop)"
   ]
  },
  {
   "cell_type": "code",
   "execution_count": 3,
   "metadata": {
    "collapsed": true
   },
   "outputs": [],
   "source": [
    "# load the raw and PCA features (for faiss we need numpy ndarray)\n",
    "raw_features = torch.load('../data/raw-features-scaled.pt').cpu().numpy()\n",
    "PCA_features = torch.load('../data/PCA-features-scaled.pt').cpu().numpy()"
   ]
  },
  {
   "cell_type": "markdown",
   "metadata": {
    "collapsed": true
   },
   "source": [
    "## Perform kNN"
   ]
  },
  {
   "cell_type": "code",
   "execution_count": 28,
   "metadata": {
    "collapsed": true
   },
   "outputs": [],
   "source": [
    "nq, d_raw = raw_features.shape\n",
    "nq, d_pca = PCA_features.shape\n",
    "\n",
    "res = faiss.StandardGpuResources()"
   ]
  },
  {
   "cell_type": "markdown",
   "metadata": {},
   "source": [
    "#### Exact Search"
   ]
  },
  {
   "cell_type": "code",
   "execution_count": 19,
   "metadata": {
    "collapsed": true
   },
   "outputs": [],
   "source": [
    "flat_config = faiss.GpuIndexFlatConfig()\n",
    "flat_config.device = 0 # use the titan X"
   ]
  },
  {
   "cell_type": "code",
   "execution_count": 54,
   "metadata": {},
   "outputs": [
    {
     "name": "stdout",
     "output_type": "stream",
     "text": [
      "benchmark\n",
      "warming up in 1.932 s\n",
      "test 1: creating index in 0.279 s, searching knn in 1.687 s, total in 1.966 s\n",
      "test 2: creating index in 0.101 s, searching knn in 1.689 s, total in 1.790 s\n",
      "test 3: creating index in 0.107 s, searching knn in 1.687 s, total in 1.793 s\n",
      "test 4: creating index in 0.081 s, searching knn in 1.902 s, total in 1.983 s\n",
      "test 5: creating index in 0.056 s, searching knn in 1.700 s, total in 1.756 s\n",
      "test 6: creating index in 0.100 s, searching knn in 1.836 s, total in 1.936 s\n",
      "test 7: creating index in 0.082 s, searching knn in 1.845 s, total in 1.928 s\n",
      "test 8: creating index in 0.069 s, searching knn in 1.853 s, total in 1.921 s\n",
      "test 9: creating index in 0.060 s, searching knn in 1.826 s, total in 1.887 s\n",
      "test 10: creating index in 0.084 s, searching knn in 1.849 s, total in 1.933 s\n",
      "===========\n",
      "Average time: creating index in 0.102 s, searching knn in 1.787 s, total in 1.889 s\n"
     ]
    }
   ],
   "source": [
    "print \"benchmark\"\n",
    "\n",
    "n = 10\n",
    "\n",
    "creating_index_time = 0\n",
    "searching_knn_time = 0\n",
    "total_time = 0\n",
    "\n",
    "for lk in range(n + 1):\n",
    "    if lk == 0:\n",
    "        t0 = time.time()\n",
    "        index = faiss.GpuIndexFlatL2(res, d_raw, flat_config)\n",
    "        index.add(raw_features)\n",
    "        D, I = index.search(raw_features, 2)\n",
    "        t1 = time.time()\n",
    "        print \"warming up in %.3f s\" % (t1 - t0)\n",
    "    else:\n",
    "        t0 = time.time()\n",
    "        index = faiss.GpuIndexFlatL2(res, d_raw, flat_config)\n",
    "        index.add(raw_features)\n",
    "        t1 = time.time()\n",
    "        D, I = index.search(raw_features, 2)\n",
    "        t2 = time.time()\n",
    "        creating_index_time += t1 - t0\n",
    "        searching_knn_time += t2 - t1\n",
    "        total_time += t2 - t0\n",
    "        print \"test %d: creating index in %.3f s, searching knn in %.3f s, total in %.3f s\" % (\n",
    "            lk, t1 - t0, t2 - t1, t2 - t0)\n",
    "\n",
    "print \"===========\"\n",
    "print \"Average time: creating index in %.3f s, searching knn in %.3f s, total in %.3f s\" % (\n",
    "    creating_index_time / n, searching_knn_time / n, total_time / n)"
   ]
  },
  {
   "cell_type": "code",
   "execution_count": 55,
   "metadata": {},
   "outputs": [],
   "source": [
    "# create the match index files\n",
    "pickle.dump([x[1] for x in I], open(\"../data/match_index_faiss_exact_raw.pl\", \"wb\"))"
   ]
  },
  {
   "cell_type": "code",
   "execution_count": 56,
   "metadata": {},
   "outputs": [
    {
     "name": "stdout",
     "output_type": "stream",
     "text": [
      "benchmark\n",
      "warming up in 0.760 s\n",
      "test 1: creating index in 0.026 s, searching knn in 0.636 s, total in 0.662 s\n",
      "test 2: creating index in 0.014 s, searching knn in 0.619 s, total in 0.633 s\n",
      "test 3: creating index in 0.011 s, searching knn in 0.637 s, total in 0.648 s\n",
      "test 4: creating index in 0.029 s, searching knn in 0.671 s, total in 0.699 s\n",
      "test 5: creating index in 0.008 s, searching knn in 0.637 s, total in 0.645 s\n",
      "test 6: creating index in 0.008 s, searching knn in 0.625 s, total in 0.633 s\n",
      "test 7: creating index in 0.018 s, searching knn in 0.629 s, total in 0.647 s\n",
      "test 8: creating index in 0.012 s, searching knn in 0.631 s, total in 0.643 s\n",
      "test 9: creating index in 0.027 s, searching knn in 0.639 s, total in 0.665 s\n",
      "test 10: creating index in 0.026 s, searching knn in 0.664 s, total in 0.690 s\n",
      "===========\n",
      "Average time: creating index in 0.018 s, searching knn in 0.639 s, total in 0.657 s\n"
     ]
    }
   ],
   "source": [
    "print \"benchmark\"\n",
    "\n",
    "n = 10\n",
    "\n",
    "creating_index_time = 0\n",
    "searching_knn_time = 0\n",
    "total_time = 0\n",
    "\n",
    "for lk in range(n + 1):\n",
    "    if lk == 0:\n",
    "        t0 = time.time()\n",
    "        index = faiss.GpuIndexFlatL2(res, d_pca, flat_config)\n",
    "        index.add(PCA_features)\n",
    "        D, I = index.search(PCA_features, 2)\n",
    "        t1 = time.time()\n",
    "        print \"warming up in %.3f s\" % (t1 - t0)\n",
    "    else:\n",
    "        t0 = time.time()\n",
    "        index = faiss.GpuIndexFlatL2(res, d_pca, flat_config)\n",
    "        index.add(PCA_features)\n",
    "        t1 = time.time()\n",
    "        D, I = index.search(PCA_features, 2)\n",
    "        t2 = time.time()\n",
    "        creating_index_time += t1 - t0\n",
    "        searching_knn_time += t2 - t1\n",
    "        total_time += t2 - t0\n",
    "        print \"test %d: creating index in %.3f s, searching knn in %.3f s, total in %.3f s\" % (\n",
    "            lk, t1 - t0, t2 - t1, t2 - t0)\n",
    "\n",
    "print \"===========\"\n",
    "print \"Average time: creating index in %.3f s, searching knn in %.3f s, total in %.3f s\" % (\n",
    "    creating_index_time / n, searching_knn_time / n, total_time / n)"
   ]
  },
  {
   "cell_type": "code",
   "execution_count": 57,
   "metadata": {},
   "outputs": [],
   "source": [
    "# create the match index files\n",
    "pickle.dump([x[1] for x in I], open(\"../data/match_index_faiss_exact_pca.pl\", \"wb\"))"
   ]
  },
  {
   "cell_type": "markdown",
   "metadata": {},
   "source": [
    "#### Approximate Search"
   ]
  },
  {
   "cell_type": "code",
   "execution_count": 41,
   "metadata": {},
   "outputs": [
    {
     "name": "stdout",
     "output_type": "stream",
     "text": [
      "benchmark\n",
      "warming up in 4.633 s\n",
      "test 1: creating index in 4.136 s, searching knn in 0.284 s, total in 4.420 s\n",
      "test 2: creating index in 4.151 s, searching knn in 0.282 s, total in 4.433 s\n",
      "test 3: creating index in 4.669 s, searching knn in 0.286 s, total in 4.955 s\n",
      "test 4: creating index in 4.402 s, searching knn in 0.369 s, total in 4.771 s\n",
      "test 5: creating index in 4.584 s, searching knn in 0.288 s, total in 4.871 s\n",
      "test 6: creating index in 4.535 s, searching knn in 0.302 s, total in 4.836 s\n",
      "test 7: creating index in 4.228 s, searching knn in 0.308 s, total in 4.536 s\n",
      "test 8: creating index in 4.140 s, searching knn in 0.287 s, total in 4.428 s\n",
      "test 9: creating index in 4.245 s, searching knn in 0.312 s, total in 4.557 s\n",
      "test 10: creating index in 4.329 s, searching knn in 0.304 s, total in 4.633 s\n",
      "===========\n",
      "Average time: creating index in 4.342 s, searching knn in 0.302 s, total in 4.644 s\n"
     ]
    }
   ],
   "source": [
    "print \"benchmark\"\n",
    "\n",
    "n = 10\n",
    "\n",
    "creating_index_time = 0\n",
    "searching_knn_time = 0\n",
    "total_time = 0\n",
    "\n",
    "for lk in range(n + 1):\n",
    "    if lk == 0:\n",
    "        t0 = time.time()\n",
    "        index = faiss.index_factory(d_raw, \"IVF16384,Flat\")\n",
    "        co = faiss.GpuClonerOptions()\n",
    "        index = faiss.index_cpu_to_gpu(res, 0, index, co)\n",
    "        index.train(raw_features)\n",
    "        index.add(raw_features)\n",
    "        D, I = index.search(raw_features, 2)\n",
    "        t1 = time.time()\n",
    "        print \"warming up in %.3f s\" % (t1 - t0)\n",
    "    else:\n",
    "        t0 = time.time()\n",
    "        index = faiss.index_factory(d_raw, \"IVF16384,Flat\")\n",
    "        co = faiss.GpuClonerOptions()\n",
    "        index = faiss.index_cpu_to_gpu(res, 0, index, co)\n",
    "        index.train(raw_features)\n",
    "        index.add(raw_features)\n",
    "        t1 = time.time()\n",
    "        D, I = index.search(raw_features, 2)\n",
    "        t2 = time.time()\n",
    "        creating_index_time += t1 - t0\n",
    "        searching_knn_time += t2 - t1\n",
    "        total_time += t2 - t0\n",
    "        print \"test %d: creating index in %.3f s, searching knn in %.3f s, total in %.3f s\" % (\n",
    "            lk, t1 - t0, t2 - t1, t2 - t0)\n",
    "\n",
    "print \"===========\"\n",
    "print \"Average time: creating index in %.3f s, searching knn in %.3f s, total in %.3f s\" % (\n",
    "    creating_index_time / n, searching_knn_time / n, total_time / n)"
   ]
  },
  {
   "cell_type": "code",
   "execution_count": 42,
   "metadata": {
    "collapsed": true
   },
   "outputs": [],
   "source": [
    "# create the match index files\n",
    "pickle.dump([x[1] for x in I], open(\"../data/match_index_faiss_approximate_raw.pl\", \"wb\"))"
   ]
  },
  {
   "cell_type": "code",
   "execution_count": 43,
   "metadata": {},
   "outputs": [
    {
     "name": "stdout",
     "output_type": "stream",
     "text": [
      "benchmark\n",
      "warming up in 2.210 s\n",
      "test 1: creating index in 2.019 s, searching knn in 0.113 s, total in 2.132 s\n",
      "test 2: creating index in 2.005 s, searching knn in 0.109 s, total in 2.114 s\n",
      "test 3: creating index in 1.882 s, searching knn in 0.110 s, total in 1.992 s\n",
      "test 4: creating index in 1.848 s, searching knn in 0.113 s, total in 1.961 s\n",
      "test 5: creating index in 1.970 s, searching knn in 0.109 s, total in 2.079 s\n",
      "test 6: creating index in 1.927 s, searching knn in 0.121 s, total in 2.047 s\n",
      "test 7: creating index in 1.962 s, searching knn in 0.118 s, total in 2.080 s\n",
      "test 8: creating index in 1.990 s, searching knn in 0.120 s, total in 2.110 s\n",
      "test 9: creating index in 2.052 s, searching knn in 0.116 s, total in 2.168 s\n",
      "test 10: creating index in 1.966 s, searching knn in 0.121 s, total in 2.088 s\n",
      "===========\n",
      "Average time: creating index in 1.962 s, searching knn in 0.115 s, total in 2.077 s\n"
     ]
    }
   ],
   "source": [
    "print \"benchmark\"\n",
    "\n",
    "n = 10\n",
    "\n",
    "creating_index_time = 0\n",
    "searching_knn_time = 0\n",
    "total_time = 0\n",
    "\n",
    "for lk in range(n + 1):\n",
    "    if lk == 0:\n",
    "        t0 = time.time()\n",
    "        index = faiss.index_factory(d_pca, \"IVF16384,Flat\")\n",
    "        co = faiss.GpuClonerOptions()\n",
    "        index = faiss.index_cpu_to_gpu(res, 0, index, co)\n",
    "        index.train(PCA_features)\n",
    "        index.add(PCA_features)\n",
    "        D, I = index.search(PCA_features, 2)\n",
    "        t1 = time.time()\n",
    "        print \"warming up in %.3f s\" % (t1 - t0)\n",
    "    else:\n",
    "        t0 = time.time()\n",
    "        index = faiss.index_factory(d_pca, \"IVF16384,Flat\")\n",
    "        co = faiss.GpuClonerOptions()\n",
    "        index = faiss.index_cpu_to_gpu(res, 0, index, co)\n",
    "        index.train(PCA_features)\n",
    "        index.add(PCA_features)\n",
    "        t1 = time.time()\n",
    "        D, I = index.search(PCA_features, 2)\n",
    "        t2 = time.time()\n",
    "        creating_index_time += t1 - t0\n",
    "        searching_knn_time += t2 - t1\n",
    "        total_time += t2 - t0\n",
    "        print \"test %d: creating index in %.3f s, searching knn in %.3f s, total in %.3f s\" % (\n",
    "            lk, t1 - t0, t2 - t1, t2 - t0)\n",
    "\n",
    "print \"===========\"\n",
    "print \"Average time: creating index in %.3f s, searching knn in %.3f s, total in %.3f s\" % (\n",
    "    creating_index_time / n, searching_knn_time / n, total_time / n)"
   ]
  },
  {
   "cell_type": "code",
   "execution_count": 44,
   "metadata": {
    "collapsed": true
   },
   "outputs": [],
   "source": [
    "# create the match index files\n",
    "pickle.dump([x[1] for x in I], open(\"../data/match_index_faiss_approximate_pca.pl\", \"wb\"))"
   ]
  }
 ],
 "metadata": {
  "kernelspec": {
   "display_name": "Python 2",
   "language": "python",
   "name": "python2"
  },
  "language_info": {
   "codemirror_mode": {
    "name": "ipython",
    "version": 2
   },
   "file_extension": ".py",
   "mimetype": "text/x-python",
   "name": "python",
   "nbconvert_exporter": "python",
   "pygments_lexer": "ipython2",
   "version": "2.7.11"
  }
 },
 "nbformat": 4,
 "nbformat_minor": 2
}
