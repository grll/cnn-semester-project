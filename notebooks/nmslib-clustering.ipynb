{
 "cells": [
  {
   "cell_type": "code",
   "execution_count": 16,
   "metadata": {},
   "outputs": [],
   "source": [
    "import nmslib\n",
    "import numpy\n",
    "\n",
    "# create a random matrix to index\n",
    "data = numpy.random.randn(10000, 100).astype(numpy.float32)\n",
    "\n",
    "# initialize a new index, using a HNSW index on Cosine Similarity\n",
    "index = nmslib.init(method='hnsw', space='l2')\n",
    "index.addDataPointBatch(data)\n",
    "index.createIndex({'post': 2}, print_progress=True)\n",
    "\n",
    "# query for the nearest neighbours of the first datapoint\n",
    "ids, distances = index.knnQuery(data[0], k=10)\n",
    "\n",
    "# get all nearest neighbours for all the datapoint\n",
    "# using a pool of 4 threads to compute\n",
    "neighbours = index.knnQueryBatch(data, k=10, num_threads=4)"
   ]
  },
  {
   "cell_type": "code",
   "execution_count": 35,
   "metadata": {
    "collapsed": true
   },
   "outputs": [],
   "source": [
    "import torch\n",
    "import pickle\n",
    "import sys\n",
    "\n",
    "import numpy as np\n",
    "\n",
    "from nltk.translate import bleu_score\n",
    "from nltk import word_tokenize"
   ]
  },
  {
   "cell_type": "code",
   "execution_count": 3,
   "metadata": {},
   "outputs": [],
   "source": [
    "# first we load the data\n",
    "features_PCA = torch.load('PCA-features.pt')\n",
    "\n",
    "# load the corresponding captions\n",
    "with open('captions.pkl', 'rb') as f:\n",
    "    captions_list = pickle.load(f)\n",
    "    \n",
    "# load the raw features\n",
    "raw_features = torch.load('raw-features.pt')"
   ]
  },
  {
   "cell_type": "markdown",
   "metadata": {},
   "source": [
    "### Perform knn on the raw features"
   ]
  },
  {
   "cell_type": "code",
   "execution_count": 24,
   "metadata": {},
   "outputs": [],
   "source": [
    "data = raw_features.cpu().numpy()\n",
    "\n",
    "# initialize a new index, using a HNSW index on Cosine Similarity\n",
    "index = nmslib.init(method='hnsw', space='l2')\n",
    "index.addDataPointBatch(data)\n",
    "index.createIndex({'post': 2}, print_progress=True)"
   ]
  },
  {
   "cell_type": "code",
   "execution_count": 25,
   "metadata": {},
   "outputs": [
    {
     "name": "stdout",
     "output_type": "stream",
     "text": [
      "CPU times: user 314 ms, sys: 4.43 ms, total: 318 ms\n",
      "Wall time: 93.6 ms\n"
     ]
    }
   ],
   "source": [
    "%%time\n",
    "# get all nearest neighbours for all the datapoint\n",
    "# using a pool of 4 threads to compute\n",
    "neighbours_raw = index.knnQueryBatch(data, k=2, num_threads=4)"
   ]
  },
  {
   "cell_type": "markdown",
   "metadata": {},
   "source": [
    "### Perform knn on PCA features"
   ]
  },
  {
   "cell_type": "code",
   "execution_count": 27,
   "metadata": {},
   "outputs": [],
   "source": [
    "data = features_PCA.cpu().numpy()\n",
    "\n",
    "# initialize a new index, using a HNSW index on Cosine Similarity\n",
    "index = nmslib.init(method='hnsw', space='l2')\n",
    "index.addDataPointBatch(data)\n",
    "index.createIndex({'post': 2}, print_progress=True)"
   ]
  },
  {
   "cell_type": "code",
   "execution_count": 28,
   "metadata": {},
   "outputs": [
    {
     "name": "stdout",
     "output_type": "stream",
     "text": [
      "CPU times: user 152 ms, sys: 0 ns, total: 152 ms\n",
      "Wall time: 44.3 ms\n"
     ]
    }
   ],
   "source": [
    "%%time\n",
    "# get all nearest neighbours for all the datapoint\n",
    "# using a pool of 4 threads to compute\n",
    "neighbours_pca = index.knnQueryBatch(data, k=2, num_threads=4)"
   ]
  },
  {
   "cell_type": "markdown",
   "metadata": {},
   "source": [
    "### Assess Performance using captions and BLEU score"
   ]
  },
  {
   "cell_type": "code",
   "execution_count": 33,
   "metadata": {},
   "outputs": [
    {
     "name": "stdout",
     "output_type": "stream",
     "text": [
      "1870\n"
     ]
    }
   ],
   "source": [
    "for idx, val in enumerate(neighbours_pca):\n",
    "    print(val[0][1])\n",
    "    break"
   ]
  },
  {
   "cell_type": "code",
   "execution_count": 36,
   "metadata": {},
   "outputs": [
    {
     "name": "stderr",
     "output_type": "stream",
     "text": [
      "/home/raille/anaconda3/lib/python3.6/site-packages/nltk/translate/bleu_score.py:490: UserWarning: \n",
      "Corpus/Sentence contains 0 counts of 2-gram overlaps.\n",
      "BLEU scores might be undesirable; use SmoothingFunction().\n",
      "  warnings.warn(_msg)\n",
      "/home/raille/anaconda3/lib/python3.6/site-packages/nltk/translate/bleu_score.py:490: UserWarning: \n",
      "Corpus/Sentence contains 0 counts of 4-gram overlaps.\n",
      "BLEU scores might be undesirable; use SmoothingFunction().\n",
      "  warnings.warn(_msg)\n",
      "/home/raille/anaconda3/lib/python3.6/site-packages/nltk/translate/bleu_score.py:490: UserWarning: \n",
      "Corpus/Sentence contains 0 counts of 3-gram overlaps.\n",
      "BLEU scores might be undesirable; use SmoothingFunction().\n",
      "  warnings.warn(_msg)\n"
     ]
    }
   ],
   "source": [
    "pca_bleu_score = []\n",
    "for idx, val in enumerate(neighbours_pca):\n",
    "    match_index = val[0][1]\n",
    "    weights = [0.25, 0.25, 0.25, 0.25]\n",
    "    score = []\n",
    "    for caption in captions_list[idx]:\n",
    "        candidate_tokens = word_tokenize(caption.replace('.',''))\n",
    "        references_tokens = [word_tokenize(i.replace('.','')) for i in captions_list[match_index]] \n",
    "        score.append(bleu_score.sentence_bleu(references_tokens, candidate_tokens, weights))\n",
    "    mean_1 = np.mean(score)\n",
    "    score = []\n",
    "    for caption in captions_list[match_index]:\n",
    "        candidate_tokens = word_tokenize(caption.replace('.',''))\n",
    "        references_tokens = [word_tokenize(i.replace('.','')) for i in captions_list[idx]] \n",
    "        score.append(bleu_score.sentence_bleu(references_tokens, candidate_tokens, weights))\n",
    "    mean_2 = np.mean(score)\n",
    "    mean = np.mean([mean_1, mean_2])\n",
    "    pca_bleu_score.append(mean)"
   ]
  },
  {
   "cell_type": "code",
   "execution_count": 37,
   "metadata": {},
   "outputs": [
    {
     "data": {
      "text/plain": [
       "0.55638710827323334"
      ]
     },
     "execution_count": 37,
     "metadata": {},
     "output_type": "execute_result"
    }
   ],
   "source": [
    "np.mean(pca_bleu_score)"
   ]
  },
  {
   "cell_type": "code",
   "execution_count": 38,
   "metadata": {},
   "outputs": [
    {
     "name": "stderr",
     "output_type": "stream",
     "text": [
      "/home/raille/anaconda3/lib/python3.6/site-packages/nltk/translate/bleu_score.py:490: UserWarning: \n",
      "Corpus/Sentence contains 0 counts of 3-gram overlaps.\n",
      "BLEU scores might be undesirable; use SmoothingFunction().\n",
      "  warnings.warn(_msg)\n",
      "/home/raille/anaconda3/lib/python3.6/site-packages/nltk/translate/bleu_score.py:490: UserWarning: \n",
      "Corpus/Sentence contains 0 counts of 4-gram overlaps.\n",
      "BLEU scores might be undesirable; use SmoothingFunction().\n",
      "  warnings.warn(_msg)\n",
      "/home/raille/anaconda3/lib/python3.6/site-packages/nltk/translate/bleu_score.py:490: UserWarning: \n",
      "Corpus/Sentence contains 0 counts of 2-gram overlaps.\n",
      "BLEU scores might be undesirable; use SmoothingFunction().\n",
      "  warnings.warn(_msg)\n"
     ]
    }
   ],
   "source": [
    "raw_bleu_score = []\n",
    "for idx, val in enumerate(neighbours_raw):\n",
    "    match_index = val[0][1]\n",
    "    weights = [0.25, 0.25, 0.25, 0.25]\n",
    "    score = []\n",
    "    for caption in captions_list[idx]:\n",
    "        candidate_tokens = word_tokenize(caption.replace('.',''))\n",
    "        references_tokens = [word_tokenize(i.replace('.','')) for i in captions_list[match_index]] \n",
    "        score.append(bleu_score.sentence_bleu(references_tokens, candidate_tokens, weights))\n",
    "    mean_1 = np.mean(score)\n",
    "    score = []\n",
    "    for caption in captions_list[match_index]:\n",
    "        candidate_tokens = word_tokenize(caption.replace('.',''))\n",
    "        references_tokens = [word_tokenize(i.replace('.','')) for i in captions_list[idx]] \n",
    "        score.append(bleu_score.sentence_bleu(references_tokens, candidate_tokens, weights))\n",
    "    mean_2 = np.mean(score)\n",
    "    mean = np.mean([mean_1, mean_2])\n",
    "    raw_bleu_score.append(mean)"
   ]
  },
  {
   "cell_type": "code",
   "execution_count": 39,
   "metadata": {},
   "outputs": [
    {
     "data": {
      "text/plain": [
       "0.55565998115402049"
      ]
     },
     "execution_count": 39,
     "metadata": {},
     "output_type": "execute_result"
    }
   ],
   "source": [
    "np.mean(raw_bleu_score)"
   ]
  },
  {
   "cell_type": "markdown",
   "metadata": {},
   "source": [
    "Again raw is a little less accurate than with PCA. However, the overall score is a lot less than bruteforce."
   ]
  },
  {
   "cell_type": "code",
   "execution_count": null,
   "metadata": {
    "collapsed": true
   },
   "outputs": [],
   "source": []
  }
 ],
 "metadata": {
  "kernelspec": {
   "display_name": "Python 3",
   "language": "python",
   "name": "python3"
  },
  "language_info": {
   "codemirror_mode": {
    "name": "ipython",
    "version": 3
   },
   "file_extension": ".py",
   "mimetype": "text/x-python",
   "name": "python",
   "nbconvert_exporter": "python",
   "pygments_lexer": "ipython3",
   "version": "3.6.2"
  }
 },
 "nbformat": 4,
 "nbformat_minor": 2
}
